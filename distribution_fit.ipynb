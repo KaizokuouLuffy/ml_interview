{
 "cells": [
  {
   "cell_type": "code",
   "execution_count": 3,
   "metadata": {},
   "outputs": [
    {
     "data": {
      "text/plain": [
       "array([ 89,  88,  95,  75,  91,  67,  92,  88,  86,  88,  82,  85, 108,\n",
       "        75,  87,  81,  77,  86,  81,  90,  86,  74,  87,  70,  84,  92,\n",
       "        82,  83,  89,  79,  89,  83, 102,  79,  92,  85,  75,  64,  85,\n",
       "        88,  85, 103,  75,  93,  84,  79,  70,  82,  95,  81,  90,  86,\n",
       "        87,  98,  81, 105,  84,  81,  90,  77,  90,  78,  68,  76,  96,\n",
       "        94, 100,  92,  84,  78,  78,  86,  89,  78,  82,  80,  83,  90,\n",
       "        91,  91, 107,  67,  81,  79, 103,  70,  85,  92,  85,  91,  86,\n",
       "        96,  89,  90,  87,  78, 115,  71,  66,  74])"
      ]
     },
     "execution_count": 3,
     "metadata": {},
     "output_type": "execute_result"
    }
   ],
   "source": [
    "import numpy as np\n",
    "\n",
    "n = 100\n",
    "max_reward = np.random.randint(100)\n",
    "np.random.poisson(max_reward, n)\n"
   ]
  },
  {
   "cell_type": "code",
   "execution_count": null,
   "metadata": {},
   "outputs": [],
   "source": []
  }
 ],
 "metadata": {
  "kernelspec": {
   "display_name": "Python 3.9.7 ('base')",
   "language": "python",
   "name": "python3"
  },
  "language_info": {
   "codemirror_mode": {
    "name": "ipython",
    "version": 3
   },
   "file_extension": ".py",
   "mimetype": "text/x-python",
   "name": "python",
   "nbconvert_exporter": "python",
   "pygments_lexer": "ipython3",
   "version": "3.9.7"
  },
  "orig_nbformat": 4,
  "vscode": {
   "interpreter": {
    "hash": "cb358b60a9c197904fe31baeb745779ef4d61dff696374105c78f76ac9a82f64"
   }
  }
 },
 "nbformat": 4,
 "nbformat_minor": 2
}
